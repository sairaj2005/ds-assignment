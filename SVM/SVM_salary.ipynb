{
 "cells": [
  {
   "cell_type": "code",
   "execution_count": 1,
   "id": "7a0f3010",
   "metadata": {},
   "outputs": [],
   "source": [
    "import numpy as np\n",
    "import pandas as pd\n",
    "import seaborn as sns"
   ]
  },
  {
   "cell_type": "code",
   "execution_count": 2,
   "id": "4375c145",
   "metadata": {},
   "outputs": [
    {
     "name": "stdout",
     "output_type": "stream",
     "text": [
      " Volume in drive C has no label.\n",
      " Volume Serial Number is B841-0E2D\n",
      "\n",
      " Directory of C:\\Users\\SANVI\\Documents\\ExelR Assignment\\SVM\n",
      "\n",
      "05-05-2022  12.47 PM    <DIR>          .\n",
      "05-05-2022  12.47 PM    <DIR>          ..\n",
      "05-05-2022  12.47 PM    <DIR>          .ipynb_checkpoints\n",
      "20-04-2022  09.50 PM               549 forest fires.txt\n",
      "20-04-2022  09.50 PM            46,843 forestfires.csv\n",
      "20-04-2022  09.50 PM               608 Problem_statement(salary_data).txt\n",
      "20-04-2022  09.50 PM         1,694,474 SalaryData_Test(1).csv\n",
      "20-04-2022  09.50 PM         3,393,618 SalaryData_Train(1).csv\n",
      "05-05-2022  12.46 PM                72 SVM_salary.ipynb\n",
      "               6 File(s)      5,136,164 bytes\n",
      "               3 Dir(s)  98,122,395,648 bytes free\n"
     ]
    }
   ],
   "source": [
    "ls"
   ]
  },
  {
   "cell_type": "code",
   "execution_count": 3,
   "id": "80463fc3",
   "metadata": {},
   "outputs": [],
   "source": [
    "sal_train=pd.read_csv(\"SalaryData_Train(1).csv\")\n",
    "sal_test=pd.read_csv(\"SalaryData_Test(1).csv\")"
   ]
  },
  {
   "cell_type": "code",
   "execution_count": 4,
   "id": "afdbd13d",
   "metadata": {},
   "outputs": [],
   "source": [
    "sal_train.columns\n",
    "sal_test.columns\n",
    "string_col=['workclass','education','maritalstatus','occupation','relationship','race','sex','native']"
   ]
  },
  {
   "cell_type": "code",
   "execution_count": 5,
   "id": "8b83fe12",
   "metadata": {},
   "outputs": [],
   "source": [
    "from sklearn import preprocessing\n",
    "label_encoder=preprocessing.LabelEncoder()\n",
    "for i in string_col:\n",
    "    sal_train[i]=label_encoder.fit_transform(sal_train[i])\n",
    "    sal_test[i]=label_encoder.fit_transform(sal_test[i])"
   ]
  },
  {
   "cell_type": "code",
   "execution_count": 6,
   "id": "cd6b31f1",
   "metadata": {},
   "outputs": [],
   "source": [
    "#At the primary stage we are considering only 500 observations of the train data and 300 observations of the test data."
   ]
  },
  {
   "cell_type": "code",
   "execution_count": 7,
   "id": "6116bb3a",
   "metadata": {},
   "outputs": [],
   "source": [
    "columns=list(sal_train.columns)\n",
    "train_x=sal_train.iloc[0:500,0:13]\n",
    "train_y=sal_train.iloc[0:500,13]\n",
    "test_x=sal_test.iloc[0:300,0:13]\n",
    "test_y=sal_test.iloc[0:300,13]"
   ]
  },
  {
   "cell_type": "code",
   "execution_count": 8,
   "id": "852dd5cb",
   "metadata": {},
   "outputs": [],
   "source": [
    "#SVM Classification using kernels: linear,poly,rbf\n"
   ]
  },
  {
   "cell_type": "code",
   "execution_count": 9,
   "id": "6b9810df",
   "metadata": {},
   "outputs": [],
   "source": [
    "from sklearn.svm import SVC"
   ]
  },
  {
   "cell_type": "code",
   "execution_count": 10,
   "id": "2246d9ac",
   "metadata": {},
   "outputs": [],
   "source": [
    "#Using Kernel as linear type"
   ]
  },
  {
   "cell_type": "code",
   "execution_count": 11,
   "id": "a6c9d5a3",
   "metadata": {},
   "outputs": [],
   "source": [
    "model_linear=SVC(kernel='linear')\n",
    "model_linear.fit(train_x,train_y)\n",
    "train_pred_lin=model_linear.predict(train_x)\n",
    "test_pred_lin=model_linear.predict(test_x)\n",
    "train_lin_acc=np.mean(train_pred_lin==train_y)\n",
    "test_lin_acc=np.mean(test_pred_lin==test_y)"
   ]
  },
  {
   "cell_type": "code",
   "execution_count": 12,
   "id": "79bc9f3c",
   "metadata": {},
   "outputs": [
    {
     "data": {
      "text/plain": [
       "0.8166666666666667"
      ]
     },
     "execution_count": 12,
     "metadata": {},
     "output_type": "execute_result"
    }
   ],
   "source": [
    "train_lin_acc\n",
    "test_lin_acc"
   ]
  },
  {
   "cell_type": "code",
   "execution_count": 13,
   "id": "9a05ab23",
   "metadata": {},
   "outputs": [],
   "source": [
    "#Using Kernel as rbf type"
   ]
  },
  {
   "cell_type": "code",
   "execution_count": 14,
   "id": "16b14b02",
   "metadata": {},
   "outputs": [],
   "source": [
    "model_rbf=SVC(kernel='rbf')\n",
    "model_rbf.fit(train_x,train_y)\n",
    "train_pred_rbf=model_rbf.predict(train_x)\n",
    "test_pred_rbf=model_rbf.predict(test_x)\n",
    "train_rbf_acc=np.mean(train_pred_rbf==train_y)\n",
    "test_rbf_acc=np.mean(test_pred_rbf==test_y)"
   ]
  },
  {
   "cell_type": "code",
   "execution_count": 15,
   "id": "e9c13da1",
   "metadata": {},
   "outputs": [
    {
     "data": {
      "text/plain": [
       "0.8033333333333333"
      ]
     },
     "execution_count": 15,
     "metadata": {},
     "output_type": "execute_result"
    }
   ],
   "source": [
    "train_rbf_acc\n",
    "test_rbf_acc"
   ]
  },
  {
   "cell_type": "code",
   "execution_count": null,
   "id": "92b03599",
   "metadata": {},
   "outputs": [],
   "source": []
  }
 ],
 "metadata": {
  "kernelspec": {
   "display_name": "Python 3",
   "language": "python",
   "name": "python3"
  },
  "language_info": {
   "codemirror_mode": {
    "name": "ipython",
    "version": 3
   },
   "file_extension": ".py",
   "mimetype": "text/x-python",
   "name": "python",
   "nbconvert_exporter": "python",
   "pygments_lexer": "ipython3",
   "version": "3.8.8"
  }
 },
 "nbformat": 4,
 "nbformat_minor": 5
}
