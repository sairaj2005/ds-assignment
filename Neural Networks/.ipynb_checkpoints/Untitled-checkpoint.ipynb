{
 "cells": [
  {
   "cell_type": "code",
   "execution_count": 4,
   "id": "2154d6d3",
   "metadata": {},
   "outputs": [],
   "source": [
    "import numpy as np\n",
    "import pandas as pd\n",
    "import matplotlib.pyplot as plt"
   ]
  },
  {
   "cell_type": "code",
   "execution_count": 5,
   "id": "1aaad57c",
   "metadata": {},
   "outputs": [
    {
     "name": "stdout",
     "output_type": "stream",
     "text": [
      " Volume in drive C has no label.\n",
      " Volume Serial Number is B841-0E2D\n",
      "\n",
      " Directory of C:\\Users\\SANVI\\Documents\\ExelR Assignment\\Neural Networks\n",
      "\n",
      "02-05-2022  02.01 PM    <DIR>          .\n",
      "02-05-2022  02.01 PM    <DIR>          ..\n",
      "02-05-2022  02.01 PM    <DIR>          .ipynb_checkpoints\n",
      "20-04-2022  09.49 PM            46,843 forestfires.csv\n",
      "20-04-2022  09.49 PM         1,155,536 gas_turbines.csv\n",
      "02-05-2022  01.54 PM            63,137 Neural Network_forestfire.ipynb\n",
      "02-05-2022  01.35 PM           604,417 Neural Network_gas_turbine.ipynb\n",
      "20-04-2022  09.49 PM             1,130 problem statment(Gas turbines).txt\n",
      "20-04-2022  09.49 PM                61 Problem_statement(fireforests).txt\n",
      "02-05-2022  02.01 PM                72 Untitled.ipynb\n",
      "               7 File(s)      1,871,196 bytes\n",
      "               3 Dir(s)  101,700,722,688 bytes free\n"
     ]
    }
   ],
   "source": [
    "ls"
   ]
  },
  {
   "cell_type": "code",
   "execution_count": 7,
   "id": "516b42dd",
   "metadata": {},
   "outputs": [],
   "source": [
    "dataframe = pd.read_csv(\"forestfires.csv\")"
   ]
  },
  {
   "cell_type": "code",
   "execution_count": 10,
   "id": "6236d159",
   "metadata": {},
   "outputs": [],
   "source": [
    "\n",
    "#Getting Independent and Dependent Features\n",
    "X = dataframe.iloc[:, 0:12].values # independent\n",
    "y = dataframe.iloc[:, 12].values # dependent variable"
   ]
  },
  {
   "cell_type": "code",
   "execution_count": 12,
   "id": "a908205b",
   "metadata": {},
   "outputs": [
    {
     "ename": "SyntaxError",
     "evalue": "invalid decimal literal (<ipython-input-12-2f281bf3a024>, line 3)",
     "output_type": "error",
     "traceback": [
      "\u001b[1;36m  File \u001b[1;32m\"<ipython-input-12-2f281bf3a024>\"\u001b[1;36m, line \u001b[1;32m3\u001b[0m\n\u001b[1;33m    Class 1_A - one acre or less;\u001b[0m\n\u001b[1;37m           ^\u001b[0m\n\u001b[1;31mSyntaxError\u001b[0m\u001b[1;31m:\u001b[0m invalid decimal literal\n"
     ]
    }
   ],
   "source": [
    "Classification\n",
    "#Convert to Acres then Classify Size\n",
    "Class 1_A - one acre or less;\n",
    "Class 2.B - more than one acre, but less than 10 acres;\n",
    "Class 3.C - 10 acres or more, but less than 100 acres;\n",
    "Class 4.D - 100 acres or more, but less than 300 acres;\n",
    "Class 5.E - 300 acres or more, but less than 1,000 acres;\n",
    "Class 6.F - 1,000 acres or more, but less than 5,000 acres;"
   ]
  },
  {
   "cell_type": "code",
   "execution_count": null,
   "id": "c1ba0267",
   "metadata": {},
   "outputs": [],
   "source": []
  }
 ],
 "metadata": {
  "kernelspec": {
   "display_name": "Python 3",
   "language": "python",
   "name": "python3"
  },
  "language_info": {
   "codemirror_mode": {
    "name": "ipython",
    "version": 3
   },
   "file_extension": ".py",
   "mimetype": "text/x-python",
   "name": "python",
   "nbconvert_exporter": "python",
   "pygments_lexer": "ipython3",
   "version": "3.8.8"
  }
 },
 "nbformat": 4,
 "nbformat_minor": 5
}
