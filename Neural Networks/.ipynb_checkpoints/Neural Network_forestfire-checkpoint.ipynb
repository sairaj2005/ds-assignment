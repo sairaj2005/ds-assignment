{
 "cells": [
  {
   "cell_type": "code",
   "execution_count": 25,
   "id": "f3bdab4b",
   "metadata": {},
   "outputs": [],
   "source": [
    "import numpy as np\n",
    "import pandas as pd\n",
    "\n",
    "from sklearn.feature_selection import RFE\n",
    "from sklearn.ensemble import ExtraTreesRegressor\n",
    "\n",
    "\n",
    "import matplotlib.pyplot as plt\n",
    "\n",
    "\n",
    "from sklearn.preprocessing import MinMaxScaler\n",
    "from sklearn.linear_model import LinearRegression\n",
    "from sklearn.linear_model import Ridge\n",
    "from sklearn.linear_model import Lasso\n",
    "from sklearn.linear_model import ElasticNet\n",
    "from sklearn.ensemble import BaggingRegressor\n",
    "from sklearn.ensemble import RandomForestRegressor\n",
    "from sklearn.ensemble import ExtraTreesRegressor\n",
    "from sklearn.tree import DecisionTreeRegressor\n",
    "from sklearn.neighbors import KNeighborsRegressor\n",
    "from sklearn.svm import SVR\n",
    "from sklearn.metrics import explained_variance_score\n",
    "from sklearn.metrics import mean_absolute_error\n",
    "\n",
    "from keras.models import Sequential\n",
    "from keras.layers import Dense\n",
    "from keras.layers import Dropout\n",
    "from keras.utils import np_utils\n",
    "from keras.constraints import maxnorm\n",
    "from sklearn.preprocessing import MinMaxScaler\n",
    "from sklearn.metrics import mean_squared_error\n",
    "from keras.wrappers.scikit_learn import KerasRegressor\n",
    "from sklearn.model_selection import cross_val_score\n",
    "from sklearn.model_selection import KFold\n",
    "from sklearn.preprocessing import StandardScaler\n",
    "\n",
    "\n"
   ]
  },
  {
   "cell_type": "code",
   "execution_count": 26,
   "id": "0c35f23d",
   "metadata": {},
   "outputs": [
    {
     "name": "stdout",
     "output_type": "stream",
     "text": [
      " Volume in drive C has no label.\n",
      " Volume Serial Number is B841-0E2D\n",
      "\n",
      " Directory of C:\\Users\\SANVI\\Documents\\ExelR Assignment\\Neural Networks\n",
      "\n",
      "02-05-2022  02.04 PM    <DIR>          .\n",
      "02-05-2022  02.04 PM    <DIR>          ..\n",
      "02-05-2022  02.01 PM    <DIR>          .ipynb_checkpoints\n",
      "20-04-2022  09.49 PM            46,843 forestfires.csv\n",
      "20-04-2022  09.49 PM         1,155,536 gas_turbines.csv\n",
      "02-05-2022  02.04 PM            63,970 Neural Network_forestfire.ipynb\n",
      "02-05-2022  01.35 PM           604,417 Neural Network_gas_turbine.ipynb\n",
      "20-04-2022  09.49 PM             1,130 problem statment(Gas turbines).txt\n",
      "20-04-2022  09.49 PM                61 Problem_statement(fireforests).txt\n",
      "02-05-2022  02.03 PM             2,258 Untitled.ipynb\n",
      "               7 File(s)      1,874,215 bytes\n",
      "               3 Dir(s)  101,700,816,896 bytes free\n"
     ]
    }
   ],
   "source": [
    "ls"
   ]
  },
  {
   "cell_type": "code",
   "execution_count": 27,
   "id": "3a2bf790",
   "metadata": {},
   "outputs": [],
   "source": [
    "dataframe = pd.read_csv(\"forestfires.csv\")"
   ]
  },
  {
   "cell_type": "code",
   "execution_count": 28,
   "id": "5a65bd4d",
   "metadata": {},
   "outputs": [],
   "source": [
    "# Encode Data\n",
    "dataframe.month.replace(('jan','feb','mar','apr','may','jun','jul','aug','sep','oct','nov','dec'),(1,2,3,4,5,6,7,8,9,10,11,12), inplace=True)\n",
    "dataframe.day.replace(('mon','tue','wed','thu','fri','sat','sun'),(1,2,3,4,5,6,7), inplace=True)"
   ]
  },
  {
   "cell_type": "code",
   "execution_count": 29,
   "id": "a045c74f",
   "metadata": {},
   "outputs": [
    {
     "name": "stdout",
     "output_type": "stream",
     "text": [
      "Head:    month  day  FFMC   DMC     DC  ISI  temp  RH  wind  rain  ...  monthfeb  \\\n",
      "0      3    5  86.2  26.2   94.3  5.1   8.2  51   6.7   0.0  ...         0   \n",
      "1     10    2  90.6  35.4  669.1  6.7  18.0  33   0.9   0.0  ...         0   \n",
      "2     10    6  90.6  43.7  686.9  6.7  14.6  33   1.3   0.0  ...         0   \n",
      "3      3    5  91.7  33.3   77.5  9.0   8.3  97   4.0   0.2  ...         0   \n",
      "4      3    7  89.3  51.3  102.2  9.6  11.4  99   1.8   0.0  ...         0   \n",
      "\n",
      "   monthjan  monthjul  monthjun  monthmar  monthmay  monthnov  monthoct  \\\n",
      "0         0         0         0         1         0         0         0   \n",
      "1         0         0         0         0         0         0         1   \n",
      "2         0         0         0         0         0         0         1   \n",
      "3         0         0         0         1         0         0         0   \n",
      "4         0         0         0         1         0         0         0   \n",
      "\n",
      "   monthsep  size_category  \n",
      "0         0          small  \n",
      "1         0          small  \n",
      "2         0          small  \n",
      "3         0          small  \n",
      "4         0          small  \n",
      "\n",
      "[5 rows x 31 columns]\n"
     ]
    }
   ],
   "source": [
    "print(\"Head:\", dataframe.head())"
   ]
  },
  {
   "cell_type": "code",
   "execution_count": 30,
   "id": "0de9e521",
   "metadata": {},
   "outputs": [
    {
     "name": "stdout",
     "output_type": "stream",
     "text": [
      "Statistical Description:             month         day        FFMC         DMC          DC         ISI  \\\n",
      "count  517.000000  517.000000  517.000000  517.000000  517.000000  517.000000   \n",
      "mean     7.475822    4.259188   90.644681  110.872340  547.940039    9.021663   \n",
      "std      2.275990    2.072929    5.520111   64.046482  248.066192    4.559477   \n",
      "min      1.000000    1.000000   18.700000    1.100000    7.900000    0.000000   \n",
      "25%      7.000000    2.000000   90.200000   68.600000  437.700000    6.500000   \n",
      "50%      8.000000    5.000000   91.600000  108.300000  664.200000    8.400000   \n",
      "75%      9.000000    6.000000   92.900000  142.400000  713.900000   10.800000   \n",
      "max     12.000000    7.000000   96.200000  291.300000  860.600000   56.100000   \n",
      "\n",
      "             temp          RH        wind        rain  ...    monthdec  \\\n",
      "count  517.000000  517.000000  517.000000  517.000000  ...  517.000000   \n",
      "mean    18.889168   44.288201    4.017602    0.021663  ...    0.017408   \n",
      "std      5.806625   16.317469    1.791653    0.295959  ...    0.130913   \n",
      "min      2.200000   15.000000    0.400000    0.000000  ...    0.000000   \n",
      "25%     15.500000   33.000000    2.700000    0.000000  ...    0.000000   \n",
      "50%     19.300000   42.000000    4.000000    0.000000  ...    0.000000   \n",
      "75%     22.800000   53.000000    4.900000    0.000000  ...    0.000000   \n",
      "max     33.300000  100.000000    9.400000    6.400000  ...    1.000000   \n",
      "\n",
      "         monthfeb    monthjan    monthjul    monthjun    monthmar    monthmay  \\\n",
      "count  517.000000  517.000000  517.000000  517.000000  517.000000  517.000000   \n",
      "mean     0.038685    0.003868    0.061896    0.032882    0.104449    0.003868   \n",
      "std      0.193029    0.062137    0.241199    0.178500    0.306138    0.062137   \n",
      "min      0.000000    0.000000    0.000000    0.000000    0.000000    0.000000   \n",
      "25%      0.000000    0.000000    0.000000    0.000000    0.000000    0.000000   \n",
      "50%      0.000000    0.000000    0.000000    0.000000    0.000000    0.000000   \n",
      "75%      0.000000    0.000000    0.000000    0.000000    0.000000    0.000000   \n",
      "max      1.000000    1.000000    1.000000    1.000000    1.000000    1.000000   \n",
      "\n",
      "         monthnov    monthoct    monthsep  \n",
      "count  517.000000  517.000000  517.000000  \n",
      "mean     0.001934    0.029014    0.332689  \n",
      "std      0.043980    0.168007    0.471632  \n",
      "min      0.000000    0.000000    0.000000  \n",
      "25%      0.000000    0.000000    0.000000  \n",
      "50%      0.000000    0.000000    0.000000  \n",
      "75%      0.000000    0.000000    1.000000  \n",
      "max      1.000000    1.000000    1.000000  \n",
      "\n",
      "[8 rows x 30 columns]\n"
     ]
    }
   ],
   "source": [
    "print(\"Statistical Description:\", dataframe.describe())"
   ]
  },
  {
   "cell_type": "code",
   "execution_count": 31,
   "id": "b2957fbc",
   "metadata": {},
   "outputs": [
    {
     "name": "stdout",
     "output_type": "stream",
     "text": [
      "Shape: (517, 31)\n"
     ]
    }
   ],
   "source": [
    "print(\"Shape:\", dataframe.shape)"
   ]
  },
  {
   "cell_type": "code",
   "execution_count": 32,
   "id": "5761580d",
   "metadata": {},
   "outputs": [
    {
     "name": "stdout",
     "output_type": "stream",
     "text": [
      "Data Types: month              int64\n",
      "day                int64\n",
      "FFMC             float64\n",
      "DMC              float64\n",
      "DC               float64\n",
      "ISI              float64\n",
      "temp             float64\n",
      "RH                 int64\n",
      "wind             float64\n",
      "rain             float64\n",
      "area             float64\n",
      "dayfri             int64\n",
      "daymon             int64\n",
      "daysat             int64\n",
      "daysun             int64\n",
      "daythu             int64\n",
      "daytue             int64\n",
      "daywed             int64\n",
      "monthapr           int64\n",
      "monthaug           int64\n",
      "monthdec           int64\n",
      "monthfeb           int64\n",
      "monthjan           int64\n",
      "monthjul           int64\n",
      "monthjun           int64\n",
      "monthmar           int64\n",
      "monthmay           int64\n",
      "monthnov           int64\n",
      "monthoct           int64\n",
      "monthsep           int64\n",
      "size_category     object\n",
      "dtype: object\n"
     ]
    }
   ],
   "source": [
    "print(\"Data Types:\", dataframe.dtypes)"
   ]
  },
  {
   "cell_type": "code",
   "execution_count": 33,
   "id": "c970572e",
   "metadata": {},
   "outputs": [
    {
     "name": "stdout",
     "output_type": "stream",
     "text": [
      "Correlation:              month       day      FFMC       DMC        DC       ISI  \\\n",
      "month     1.000000 -0.050837  0.291477  0.466645  0.868698  0.186597   \n",
      "day      -0.050837  1.000000 -0.041068  0.062870  0.000105  0.032909   \n",
      "FFMC      0.291477 -0.041068  1.000000  0.382619  0.330512  0.531805   \n",
      "DMC       0.466645  0.062870  0.382619  1.000000  0.682192  0.305128   \n",
      "DC        0.868698  0.000105  0.330512  0.682192  1.000000  0.229154   \n",
      "ISI       0.186597  0.032909  0.531805  0.305128  0.229154  1.000000   \n",
      "temp      0.368842  0.052190  0.431532  0.469594  0.496208  0.394287   \n",
      "RH       -0.095280  0.092151 -0.300995  0.073795 -0.039192 -0.132517   \n",
      "wind     -0.086368  0.032478 -0.028485 -0.105342 -0.203466  0.106826   \n",
      "rain      0.013438 -0.048340  0.056702  0.074790  0.035861  0.067668   \n",
      "area      0.056496  0.023226  0.040122  0.072994  0.049383  0.008258   \n",
      "dayfri   -0.028562  0.158676  0.019306 -0.012010 -0.004220  0.046695   \n",
      "daymon   -0.002941 -0.643220 -0.059396 -0.107921 -0.052993 -0.158601   \n",
      "daysat   -0.057580  0.370240 -0.019637 -0.003653 -0.035189 -0.038585   \n",
      "daysun   -0.009232  0.627944 -0.089517  0.025355 -0.001431 -0.003243   \n",
      "daythu    0.028940 -0.045775  0.071730  0.087672  0.051859 -0.022406   \n",
      "daytue    0.053072 -0.410043  0.011225  0.000016  0.028368  0.068610   \n",
      "daywed    0.031445 -0.207650  0.093908  0.017939  0.024803  0.125415   \n",
      "monthapr -0.203468  0.040473 -0.117199 -0.197543 -0.268211 -0.106478   \n",
      "monthaug  0.171362  0.049373  0.228103  0.497928  0.279361  0.334639   \n",
      "monthdec  0.264837 -0.095214 -0.137044 -0.176301 -0.105642 -0.162322   \n",
      "monthfeb -0.483099  0.028170 -0.281535 -0.317899 -0.399277 -0.249777   \n",
      "monthjan -0.177483  0.067430 -0.454771 -0.105647 -0.115064 -0.103588   \n",
      "monthjul -0.053753 -0.005016  0.031833 -0.001946 -0.100887  0.020982   \n",
      "monthjun -0.119681  0.013585 -0.040634 -0.050403 -0.186183  0.111516   \n",
      "monthmar -0.672248 -0.036634 -0.074327 -0.407404 -0.650427 -0.143520   \n",
      "monthmay -0.067855  0.037338 -0.037230 -0.081980 -0.114209 -0.060493   \n",
      "monthnov  0.068231 -0.048025 -0.088964 -0.074218 -0.078380 -0.076559   \n",
      "monthoct  0.191895 -0.032764 -0.005998 -0.187632  0.093279 -0.071154   \n",
      "monthsep  0.473304 -0.022955  0.076609  0.110907  0.531857 -0.068877   \n",
      "\n",
      "              temp        RH      wind      rain  ...  monthdec  monthfeb  \\\n",
      "month     0.368842 -0.095280 -0.086368  0.013438  ...  0.264837 -0.483099   \n",
      "day       0.052190  0.092151  0.032478 -0.048340  ... -0.095214  0.028170   \n",
      "FFMC      0.431532 -0.300995 -0.028485  0.056702  ... -0.137044 -0.281535   \n",
      "DMC       0.469594  0.073795 -0.105342  0.074790  ... -0.176301 -0.317899   \n",
      "DC        0.496208 -0.039192 -0.203466  0.035861  ... -0.105642 -0.399277   \n",
      "ISI       0.394287 -0.132517  0.106826  0.067668  ... -0.162322 -0.249777   \n",
      "temp      1.000000 -0.527390 -0.227116  0.069491  ... -0.329648 -0.320015   \n",
      "RH       -0.527390  1.000000  0.069410  0.099751  ... -0.047714  0.140430   \n",
      "wind     -0.227116  0.069410  1.000000  0.061119  ...  0.269702 -0.029431   \n",
      "rain      0.069491  0.099751  0.061119  1.000000  ... -0.009752 -0.014698   \n",
      "area      0.097844 -0.075519  0.012317 -0.007366  ...  0.001010 -0.020732   \n",
      "dayfri   -0.071949  0.064506  0.118090 -0.004261  ... -0.019140  0.046323   \n",
      "daymon   -0.136529  0.009376 -0.063881 -0.029945  ...  0.114519  0.003933   \n",
      "daysat    0.034899 -0.023869 -0.063799 -0.032271  ... -0.058625  0.020406   \n",
      "daysun    0.014403  0.136220  0.027981 -0.017872  ... -0.024966  0.008416   \n",
      "daythu    0.051432 -0.123061 -0.062553 -0.026798  ... -0.002838 -0.042278   \n",
      "daytue    0.035630 -0.014211  0.053396  0.139311  ... -0.005125 -0.014491   \n",
      "daywed    0.090580 -0.087508 -0.019965 -0.020744  ...  0.002899 -0.035713   \n",
      "monthapr -0.157051  0.021235  0.048266 -0.009752  ... -0.017717 -0.026701   \n",
      "monthaug  0.351404  0.054761  0.028577  0.093101  ... -0.098941 -0.149116   \n",
      "monthdec -0.329648 -0.047714  0.269702 -0.009752  ...  1.000000 -0.026701   \n",
      "monthfeb -0.320015  0.140430 -0.029431 -0.014698  ... -0.026701  1.000000   \n",
      "monthjan -0.146520  0.170923 -0.070245 -0.004566  ... -0.008295 -0.012501   \n",
      "monthjul  0.142588  0.013185 -0.040645 -0.013390  ... -0.034190 -0.051528   \n",
      "monthjun  0.051015  0.009382  0.012124 -0.013510  ... -0.024543 -0.036989   \n",
      "monthmar -0.341797 -0.089836  0.181433 -0.020744  ... -0.045456 -0.068508   \n",
      "monthmay -0.045540  0.086822  0.015054 -0.004566  ... -0.008295 -0.012501   \n",
      "monthnov -0.053798 -0.035885  0.011864 -0.003225  ... -0.005860 -0.008831   \n",
      "monthoct -0.053513 -0.072334 -0.053850 -0.012665  ... -0.023008 -0.034676   \n",
      "monthsep  0.088006 -0.062596 -0.181476 -0.051733  ... -0.093982 -0.141642   \n",
      "\n",
      "          monthjan  monthjul  monthjun  monthmar  monthmay  monthnov  \\\n",
      "month    -0.177483 -0.053753 -0.119681 -0.672248 -0.067855  0.068231   \n",
      "day       0.067430 -0.005016  0.013585 -0.036634  0.037338 -0.048025   \n",
      "FFMC     -0.454771  0.031833 -0.040634 -0.074327 -0.037230 -0.088964   \n",
      "DMC      -0.105647 -0.001946 -0.050403 -0.407404 -0.081980 -0.074218   \n",
      "DC       -0.115064 -0.100887 -0.186183 -0.650427 -0.114209 -0.078380   \n",
      "ISI      -0.103588  0.020982  0.111516 -0.143520 -0.060493 -0.076559   \n",
      "temp     -0.146520  0.142588  0.051015 -0.341797 -0.045540 -0.053798   \n",
      "RH        0.170923  0.013185  0.009382 -0.089836  0.086822 -0.035885   \n",
      "wind     -0.070245 -0.040645  0.012124  0.181433  0.015054  0.011864   \n",
      "rain     -0.004566 -0.013390 -0.013510 -0.020744 -0.004566 -0.003225   \n",
      "area     -0.012589  0.006149 -0.020314 -0.045596  0.006264 -0.008893   \n",
      "dayfri   -0.027643 -0.048969  0.006000  0.036205  0.056423 -0.019527   \n",
      "daymon   -0.025470 -0.013300  0.017553  0.077125 -0.025470 -0.017992   \n",
      "daysat    0.057019  0.060945 -0.022408  0.021024  0.057019 -0.019390   \n",
      "daysun    0.050887 -0.018241  0.024540 -0.047726 -0.029568 -0.020887   \n",
      "daythu   -0.022793 -0.019300 -0.000195 -0.026885 -0.022793 -0.016101   \n",
      "daytue   -0.023424  0.049688 -0.069308 -0.032351 -0.023424  0.117121   \n",
      "daywed   -0.021282 -0.008985  0.043422 -0.033917 -0.021282 -0.015034   \n",
      "monthapr -0.008295 -0.034190 -0.024543 -0.045456 -0.008295 -0.005860   \n",
      "monthaug -0.046323 -0.190937 -0.137065 -0.253859 -0.046323 -0.032724   \n",
      "monthdec -0.008295 -0.034190 -0.024543 -0.045456 -0.008295 -0.005860   \n",
      "monthfeb -0.012501 -0.051528 -0.036989 -0.068508 -0.012501 -0.008831   \n",
      "monthjan  1.000000 -0.016007 -0.011491 -0.021282 -0.003883 -0.002743   \n",
      "monthjul -0.016007  1.000000 -0.047363 -0.087722 -0.016007 -0.011308   \n",
      "monthjun -0.011491 -0.047363  1.000000 -0.062972 -0.011491 -0.008117   \n",
      "monthmar -0.021282 -0.087722 -0.062972  1.000000 -0.021282 -0.015034   \n",
      "monthmay -0.003883 -0.016007 -0.011491 -0.021282  1.000000 -0.002743   \n",
      "monthnov -0.002743 -0.011308 -0.008117 -0.015034 -0.002743  1.000000   \n",
      "monthoct -0.010772 -0.044402 -0.031874 -0.059034 -0.010772 -0.007610   \n",
      "monthsep -0.044001 -0.181367 -0.130195 -0.241135 -0.044001 -0.031083   \n",
      "\n",
      "          monthoct  monthsep  \n",
      "month     0.191895  0.473304  \n",
      "day      -0.032764 -0.022955  \n",
      "FFMC     -0.005998  0.076609  \n",
      "DMC      -0.187632  0.110907  \n",
      "DC        0.093279  0.531857  \n",
      "ISI      -0.071154 -0.068877  \n",
      "temp     -0.053513  0.088006  \n",
      "RH       -0.072334 -0.062596  \n",
      "wind     -0.053850 -0.181476  \n",
      "rain     -0.012665 -0.051733  \n",
      "area     -0.016878  0.056573  \n",
      "dayfri   -0.045585  0.107671  \n",
      "daymon    0.060975  0.039632  \n",
      "daysat    0.017584 -0.032783  \n",
      "daysun    0.007252 -0.048817  \n",
      "daythu   -0.063223  0.008984  \n",
      "daytue    0.005008 -0.028570  \n",
      "daywed    0.016325 -0.053222  \n",
      "monthapr -0.023008 -0.093982  \n",
      "monthaug -0.128493 -0.524858  \n",
      "monthdec -0.023008 -0.093982  \n",
      "monthfeb -0.034676 -0.141642  \n",
      "monthjan -0.010772 -0.044001  \n",
      "monthjul -0.044402 -0.181367  \n",
      "monthjun -0.031874 -0.130195  \n",
      "monthmar -0.059034 -0.241135  \n",
      "monthmay -0.010772 -0.044001  \n",
      "monthnov -0.007610 -0.031083  \n",
      "monthoct  1.000000 -0.122053  \n",
      "monthsep -0.122053  1.000000  \n",
      "\n",
      "[30 rows x 30 columns]\n"
     ]
    }
   ],
   "source": [
    "print(\"Correlation:\", dataframe.corr(method='pearson'))"
   ]
  },
  {
   "cell_type": "code",
   "execution_count": 34,
   "id": "f20323ab",
   "metadata": {},
   "outputs": [],
   "source": [
    "dataset = dataframe.values"
   ]
  },
  {
   "cell_type": "code",
   "execution_count": 35,
   "id": "e3a04f59",
   "metadata": {},
   "outputs": [
    {
     "data": {
      "text/plain": [
       "(array([508.,   6.,   1.,   0.,   0.,   0.,   1.,   0.,   0.,   1.]),\n",
       " array([   0.   ,  109.084,  218.168,  327.252,  436.336,  545.42 ,\n",
       "         654.504,  763.588,  872.672,  981.756, 1090.84 ]),\n",
       " <BarContainer object of 10 artists>)"
      ]
     },
     "execution_count": 35,
     "metadata": {},
     "output_type": "execute_result"
    },
    {
     "data": {
      "image/png": "[encoded data removed]",
      "text/plain": [
       "<Figure size 432x288 with 1 Axes>"
      ]
     },
     "metadata": {
      "needs_background": "light"
     },
     "output_type": "display_data"
    }
   ],
   "source": [
    "plt.hist((dataframe.area))"
   ]
  },
  {
   "cell_type": "code",
   "execution_count": 36,
   "id": "68a84ec7",
   "metadata": {},
   "outputs": [
    {
     "data": {
      "text/plain": [
       "array([[<AxesSubplot:title={'center':'month'}>,\n",
       "        <AxesSubplot:title={'center':'day'}>,\n",
       "        <AxesSubplot:title={'center':'FFMC'}>,\n",
       "        <AxesSubplot:title={'center':'DMC'}>,\n",
       "        <AxesSubplot:title={'center':'DC'}>],\n",
       "       [<AxesSubplot:title={'center':'ISI'}>,\n",
       "        <AxesSubplot:title={'center':'temp'}>,\n",
       "        <AxesSubplot:title={'center':'RH'}>,\n",
       "        <AxesSubplot:title={'center':'wind'}>,\n",
       "        <AxesSubplot:title={'center':'rain'}>],\n",
       "       [<AxesSubplot:title={'center':'area'}>,\n",
       "        <AxesSubplot:title={'center':'dayfri'}>,\n",
       "        <AxesSubplot:title={'center':'daymon'}>,\n",
       "        <AxesSubplot:title={'center':'daysat'}>,\n",
       "        <AxesSubplot:title={'center':'daysun'}>],\n",
       "       [<AxesSubplot:title={'center':'daythu'}>,\n",
       "        <AxesSubplot:title={'center':'daytue'}>,\n",
       "        <AxesSubplot:title={'center':'daywed'}>,\n",
       "        <AxesSubplot:title={'center':'monthapr'}>,\n",
       "        <AxesSubplot:title={'center':'monthaug'}>],\n",
       "       [<AxesSubplot:title={'center':'monthdec'}>,\n",
       "        <AxesSubplot:title={'center':'monthfeb'}>,\n",
       "        <AxesSubplot:title={'center':'monthjan'}>,\n",
       "        <AxesSubplot:title={'center':'monthjul'}>,\n",
       "        <AxesSubplot:title={'center':'monthjun'}>],\n",
       "       [<AxesSubplot:title={'center':'monthmar'}>,\n",
       "        <AxesSubplot:title={'center':'monthmay'}>,\n",
       "        <AxesSubplot:title={'center':'monthnov'}>,\n",
       "        <AxesSubplot:title={'center':'monthoct'}>,\n",
       "        <AxesSubplot:title={'center':'monthsep'}>]], dtype=object)"
      ]
     },
     "execution_count": 36,
     "metadata": {},
     "output_type": "execute_result"
    },
    {
     "data": {
      "image/png": "[encoded data removed]",
      "text/plain": [
       "<Figure size 432x288 with 30 Axes>"
      ]
     },
     "metadata": {
      "needs_background": "light"
     },
     "output_type": "display_data"
    }
   ],
   "source": [
    "dataframe.hist()"
   ]
  },
  {
   "cell_type": "code",
   "execution_count": 37,
   "id": "dca68dba",
   "metadata": {},
   "outputs": [
    {
     "ename": "ModuleNotFoundError",
     "evalue": "No module named 'pandas.tools_plotting'",
     "output_type": "error",
     "traceback": [
      "\u001b[1;31m---------------------------------------------------------------------------\u001b[0m",
      "\u001b[1;31mModuleNotFoundError\u001b[0m                       Traceback (most recent call last)",
      "\u001b[1;32m<ipython-input-37-7f36e57970e0>\u001b[0m in \u001b[0;36m<module>\u001b[1;34m\u001b[0m\n\u001b[1;32m----> 1\u001b[1;33m \u001b[1;32mfrom\u001b[0m \u001b[0mpandas\u001b[0m\u001b[1;33m.\u001b[0m\u001b[0mtools_plotting\u001b[0m \u001b[1;32mimport\u001b[0m \u001b[0mscatter_matrix\u001b[0m\u001b[1;33m\u001b[0m\u001b[1;33m\u001b[0m\u001b[0m\n\u001b[0m",
      "\u001b[1;31mModuleNotFoundError\u001b[0m: No module named 'pandas.tools_plotting'"
     ]
    }
   ],
   "source": [
    "from pandas.tools_plotting import scatter_matrix"
   ]
  },
  {
   "cell_type": "code",
   "execution_count": null,
   "id": "963179e6",
   "metadata": {},
   "outputs": [],
   "source": []
  }
 ],
 "metadata": {
  "kernelspec": {
   "display_name": "Python 3",
   "language": "python",
   "name": "python3"
  },
  "language_info": {
   "codemirror_mode": {
    "name": "ipython",
    "version": 3
   },
   "file_extension": ".py",
   "mimetype": "text/x-python",
   "name": "python",
   "nbconvert_exporter": "python",
   "pygments_lexer": "ipython3",
   "version": "3.8.8"
  }
 },
 "nbformat": 4,
 "nbformat_minor": 5
}
