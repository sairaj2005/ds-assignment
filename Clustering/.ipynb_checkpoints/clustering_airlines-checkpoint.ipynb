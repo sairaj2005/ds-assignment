{
 "cells": [
  {
   "cell_type": "code",
   "execution_count": 30,
   "id": "e195e046",
   "metadata": {},
   "outputs": [],
   "source": [
    "# Import Libraries\n",
    "import pandas as pd\n",
    "import numpy as np\n",
    "import matplotlib.pyplot as plt\n",
    "import scipy.cluster.hierarchy as sch\n",
    "from sklearn.cluster import AgglomerativeClustering\n"
   ]
  },
  {
   "cell_type": "code",
   "execution_count": 29,
   "id": "ffd60d2a",
   "metadata": {},
   "outputs": [
    {
     "name": "stdout",
     "output_type": "stream",
     "text": [
      "Requirement already satisfied: xlrd in c:\\users\\sanvi\\anaconda3\\lib\\site-packages (2.0.1)Note: you may need to restart the kernel to use updated packages.\n",
      "\n"
     ]
    }
   ],
   "source": [
    "pip install xlrd"
   ]
  },
  {
   "cell_type": "code",
   "execution_count": 43,
   "id": "0443ef70",
   "metadata": {},
   "outputs": [
    {
     "name": "stdout",
     "output_type": "stream",
     "text": [
      " Volume in drive C has no label.\n",
      " Volume Serial Number is B841-0E2D\n",
      "\n",
      " Directory of C:\\Users\\SANVI\\Documents\\ExelR Assignment\\Clustering\n",
      "\n",
      "02-05-2022  09.31 AM    <DIR>          .\n",
      "02-05-2022  09.31 AM    <DIR>          ..\n",
      "01-05-2022  09.35 AM    <DIR>          .ipynb_checkpoints\n",
      "02-05-2022  09.31 AM            17,874 clustering_airlines.ipynb\n",
      "01-05-2022  10.18 AM           152,319 clustering_crime.ipynb\n",
      "20-04-2022  09.39 PM             1,328 crime_data.csv\n",
      "20-04-2022  09.39 PM           268,963 EastWestAirlines.xlsx\n",
      "20-04-2022  09.39 PM             1,560 Problem_Statement(Airlines).txt\n",
      "20-04-2022  09.39 PM               389 ProblemSatement(crime_data).txt\n",
      "               6 File(s)        442,433 bytes\n",
      "               3 Dir(s)  101,665,153,024 bytes free\n"
     ]
    }
   ],
   "source": [
    "ls        "
   ]
  },
  {
   "cell_type": "code",
   "execution_count": 56,
   "id": "5eed625c",
   "metadata": {},
   "outputs": [
    {
     "name": "stdout",
     "output_type": "stream",
     "text": [
      "       ID#  Balance  Qual_miles  cc1_miles  cc2_miles  cc3_miles  Bonus_miles  \\\n",
      "0        1    28143           0          1          1          1          174   \n",
      "1        2    19244           0          1          1          1          215   \n",
      "2        3    41354           0          1          1          1         4123   \n",
      "3        4    14776           0          1          1          1          500   \n",
      "4        5    97752           0          4          1          1        43300   \n",
      "...    ...      ...         ...        ...        ...        ...          ...   \n",
      "3994  4017    18476           0          1          1          1         8525   \n",
      "3995  4018    64385           0          1          1          1          981   \n",
      "3996  4019    73597           0          3          1          1        25447   \n",
      "3997  4020    54899           0          1          1          1          500   \n",
      "3998  4021     3016           0          1          1          1            0   \n",
      "\n",
      "      Bonus_trans  Flight_miles_12mo  Flight_trans_12  Days_since_enroll  \\\n",
      "0               1                  0                0               7000   \n",
      "1               2                  0                0               6968   \n",
      "2               4                  0                0               7034   \n",
      "3               1                  0                0               6952   \n",
      "4              26               2077                4               6935   \n",
      "...           ...                ...              ...                ...   \n",
      "3994            4                200                1               1403   \n",
      "3995            5                  0                0               1395   \n",
      "3996            8                  0                0               1402   \n",
      "3997            1                500                1               1401   \n",
      "3998            0                  0                0               1398   \n",
      "\n",
      "      Award?  \n",
      "0          0  \n",
      "1          0  \n",
      "2          0  \n",
      "3          0  \n",
      "4          1  \n",
      "...      ...  \n",
      "3994       1  \n",
      "3995       1  \n",
      "3996       1  \n",
      "3997       0  \n",
      "3998       0  \n",
      "\n",
      "[3999 rows x 12 columns]\n"
     ]
    }
   ],
   "source": [
    "airline_sheet_index = pd.read_excel('EastWestAirlines.xlsx', sheet_name = 1)\n",
    "print(airline_sheet_index)"
   ]
  },
  {
   "cell_type": "code",
   "execution_count": 67,
   "id": "4fc83e4b",
   "metadata": {},
   "outputs": [],
   "source": [
    "# Column rename.\n",
    "\n",
    "dataset= airline.rename(columns={'ID#':'ID', 'Award?':'Award'})"
   ]
  },
  {
   "cell_type": "code",
   "execution_count": 72,
   "id": "e329f509",
   "metadata": {},
   "outputs": [],
   "source": [
    "from sklearn.preprocessing import StandardScaler\n"
   ]
  },
  {
   "cell_type": "code",
   "execution_count": 76,
   "id": "aaf3db55",
   "metadata": {},
   "outputs": [
    {
     "data": {
      "text/plain": [
       "(26, 5)"
      ]
     },
     "execution_count": 76,
     "metadata": {},
     "output_type": "execute_result"
    }
   ],
   "source": [
    "airline.shape"
   ]
  },
  {
   "cell_type": "code",
   "execution_count": 77,
   "id": "ab8ea0b8",
   "metadata": {},
   "outputs": [
    {
     "ename": "NameError",
     "evalue": "name 'dataset1' is not defined",
     "output_type": "error",
     "traceback": [
      "\u001b[1;31m---------------------------------------------------------------------------\u001b[0m",
      "\u001b[1;31mNameError\u001b[0m                                 Traceback (most recent call last)",
      "\u001b[1;32m<ipython-input-77-34a0a17b7dc4>\u001b[0m in \u001b[0;36m<module>\u001b[1;34m\u001b[0m\n\u001b[0;32m      4\u001b[0m \u001b[0mminmax\u001b[0m \u001b[1;33m=\u001b[0m \u001b[0mMinMaxScaler\u001b[0m\u001b[1;33m(\u001b[0m\u001b[1;33m)\u001b[0m\u001b[1;33m\u001b[0m\u001b[1;33m\u001b[0m\u001b[0m\n\u001b[0;32m      5\u001b[0m \u001b[1;33m\u001b[0m\u001b[0m\n\u001b[1;32m----> 6\u001b[1;33m \u001b[0mminmax_df\u001b[0m \u001b[1;33m=\u001b[0m \u001b[0mminmax\u001b[0m\u001b[1;33m.\u001b[0m\u001b[0mfit_transform\u001b[0m\u001b[1;33m(\u001b[0m\u001b[0mdataset1\u001b[0m\u001b[1;33m)\u001b[0m\u001b[1;33m\u001b[0m\u001b[1;33m\u001b[0m\u001b[0m\n\u001b[0m\u001b[0;32m      7\u001b[0m \u001b[0mminmax_df\u001b[0m\u001b[1;33m.\u001b[0m\u001b[0mshape\u001b[0m\u001b[1;33m\u001b[0m\u001b[1;33m\u001b[0m\u001b[0m\n",
      "\u001b[1;31mNameError\u001b[0m: name 'dataset1' is not defined"
     ]
    }
   ],
   "source": [
    "# Using Minmaxscaler for accuracy result comparison\n",
    "\n",
    "from sklearn.preprocessing import MinMaxScaler\n",
    "minmax = MinMaxScaler()\n",
    "\n",
    "minmax_df = minmax.fit_transform(dataset1)\n",
    "minmax_df.shape"
   ]
  },
  {
   "cell_type": "code",
   "execution_count": null,
   "id": "31a678ba",
   "metadata": {},
   "outputs": [],
   "source": []
  }
 ],
 "metadata": {
  "kernelspec": {
   "display_name": "Python 3",
   "language": "python",
   "name": "python3"
  },
  "language_info": {
   "codemirror_mode": {
    "name": "ipython",
    "version": 3
   },
   "file_extension": ".py",
   "mimetype": "text/x-python",
   "name": "python",
   "nbconvert_exporter": "python",
   "pygments_lexer": "ipython3",
   "version": "3.8.8"
  }
 },
 "nbformat": 4,
 "nbformat_minor": 5
}
